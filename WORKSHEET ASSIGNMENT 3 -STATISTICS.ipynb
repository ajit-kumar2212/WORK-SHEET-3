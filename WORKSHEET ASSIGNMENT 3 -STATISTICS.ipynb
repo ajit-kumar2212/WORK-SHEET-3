{
 "cells": [
  {
   "cell_type": "markdown",
   "id": "be6c2353",
   "metadata": {},
   "source": [
    "# 3 -STATISTICS"
   ]
  },
  {
   "cell_type": "code",
   "execution_count": null,
   "id": "4364f13a",
   "metadata": {},
   "outputs": [],
   "source": [
    "1. (b) \n",
    "2. (c) binomial \n",
    "3. (a) 2\n",
    "4. (a) type1 error \n",
    "5. (b) size of test \n",
    "6. (b) increase \n",
    "7. (b) hypothesis \n",
    "8. (d) All \n",
    "9. (b) 0 \n",
    "10. Bayes' theorem is a formula that describes how to update the probabilities of hypotheses when given evidence. It \n",
    "    follows conditional probability. \n",
    " 11. A Z-score is a numerical measurement that describes a value's relationship to the mean of a group of values. Z\u0002score is measured in terms of standard deviations from the mean. If a Z-score is 0, it indicates that the data point's \n",
    "    score is identical to the mean score. A Z-score of 1.0 would indicate a value that is one standard deviation from the \n",
    "    mean. Z-scores may be positive or negative, with a positive value indicating the score is above the mean and a \n",
    "    negative score indicating it is below the mean. \n",
    " 12. A t-test is a type of inferential statistic used to determine if there is a significant difference between the means of \n",
    "    two groups, which may be related in certain features. It is mostly used when the data sets, like the data set recorded as \n",
    "    the outcome from flipping a coin 100 times, would follow a normal distribution and may have unknown variances. A \n",
    "    t-test is used as a hypothesis testing tool, which allows testing of an assumption applicable to a population. \n",
    " 13. A percentile is a measure used in statistics indicating the value below which a given percentage of observations in \n",
    "        a group of observations falls. For example, the 20th percentile is the value (or score) below which 20% of the \n",
    "        observations may be found. \n",
    " 14. ANOVA stands for Analysis of Variance. One-Way Analysis of Variance tells you if there are any statistical \n",
    "    differences between the means of three or more independent groups. \n",
    " 15. The one-way ANOVA can help you know whether or not there are significant differences between the means of\n",
    "    your independent variables (such as the first example: age, gender, income). When you understand how each \n",
    "    independent variable’s mean is different from the others, you can begin to understand which of them has a connection \n",
    "    to your dependent variable and begin to learn what is driving that behaviour."
   ]
  }
 ],
 "metadata": {
  "kernelspec": {
   "display_name": "Python 3 (ipykernel)",
   "language": "python",
   "name": "python3"
  },
  "language_info": {
   "codemirror_mode": {
    "name": "ipython",
    "version": 3
   },
   "file_extension": ".py",
   "mimetype": "text/x-python",
   "name": "python",
   "nbconvert_exporter": "python",
   "pygments_lexer": "ipython3",
   "version": "3.9.12"
  }
 },
 "nbformat": 4,
 "nbformat_minor": 5
}
