{
 "cells": [
  {
   "cell_type": "markdown",
   "id": "72ce88a5",
   "metadata": {},
   "source": [
    "MACHINE LEARNING"
   ]
  },
  {
   "cell_type": "code",
   "execution_count": null,
   "id": "cf0fddfd",
   "metadata": {},
   "outputs": [],
   "source": [
    "1. d) All of the above\n",
    "2. d) None\n",
    "3. c) Reinforcement learning and Unsupervised learning\n",
    "4. b) The tree representing how close the data points are to each other\n",
    "5. d) None\n",
    "6. c) k-nearest neighbor is same as k-means\n",
    "7. d) 1,2 and 3\n",
    "8. a) 1 only\n",
    "9. a) 2\n",
    "10. a) Assign each point to its nearest cluster\n",
    "     c) Update the cluster centroids based the current assignment\n",
    "    \n",
    "11. b) Explanation: For the single link or MIN version of hierarchical clustering, the proximity of two \n",
    "    clusters is defined to be the minimum of the distance between any two points in the different \n",
    "    clusters. For instance, from the table, wesee that the distance between points 3 and 6 is 0.11, and\n",
    "    that is the height at which they are joined into one cluster in the dendrogram. As another example, \n",
    "    the distance between clusters {3, 6} and {2, 5} is given by dist({3, 6}, {2,5}) = min(dist(3, 2), dist(6,\n",
    "    2), dist(3, 5), dist(6, 5)) = min(0.1483, 0.2540, 0.2843, 0.3921) = 0.1483\n",
    "    \n",
    "12. b) Explanation: For the single link or MAX version of hierarchical clustering, the proximity of two \n",
    "    clusters is defined to be the maximum of the distance between any two points in the different clusters. \n",
    "    Similarly, here points 3 and 6 are merged first. However, {3, 6} is merged with {4}, instead of {2, 5}. This \n",
    "    is because the dist({3, 6}, {4}) = max(dist(3, 4), dist(6, 4)) = max(0.1513, 0.2216) = 0.2216, which is \n",
    "    smaller than dist({3, 6}, {2, 5}) = max(dist(3, 2),dist(6, 2), dist(3, 5), dist(6, 5)) = max(0.1483, 0.2540, \n",
    "    0.2843, 0.3921) = 0.3921 and dist({3, 6}, {1}) = max(dist(3, 1),dist(6, 1)) = max(0.2218, 0.2347) = \n",
    "    0.2347.\n",
    "    \n",
    "13. Clustering is important in data analysis and data mining applications. It is the task of grouping a set \n",
    "    of objects so that objects in the same group are more similar to each other than to those in other groups \n",
    "    (clusters). Clustering can bedone by the different no.\n",
    "    \n",
    "    \n",
    "14. Graph-based clustering performance can easily be improved by applying ICA blind source \n",
    "    separation during thegraph Laplacian embedding step. Applying unsupervised feature learning to input \n",
    "    data using either RICA or SFT, improves clustering performance"
   ]
  }
 ],
 "metadata": {
  "kernelspec": {
   "display_name": "Python 3 (ipykernel)",
   "language": "python",
   "name": "python3"
  },
  "language_info": {
   "codemirror_mode": {
    "name": "ipython",
    "version": 3
   },
   "file_extension": ".py",
   "mimetype": "text/x-python",
   "name": "python",
   "nbconvert_exporter": "python",
   "pygments_lexer": "ipython3",
   "version": "3.9.12"
  }
 },
 "nbformat": 4,
 "nbformat_minor": 5
}
